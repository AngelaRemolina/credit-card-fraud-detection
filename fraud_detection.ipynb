{
 "cells": [
  {
   "cell_type": "markdown",
   "id": "cc9f8492",
   "metadata": {
    "papermill": {
     "duration": 0.006271,
     "end_time": "2025-03-05T20:30:55.191594",
     "exception": false,
     "start_time": "2025-03-05T20:30:55.185323",
     "status": "completed"
    },
    "tags": []
   },
   "source": [
    "# Card Fraud Detection\n",
    "Angela Remolina | Person code: 10992373"
   ]
  },
  {
   "cell_type": "code",
   "execution_count": 1,
   "id": "f65cf360",
   "metadata": {
    "execution": {
     "iopub.execute_input": "2025-03-05T20:30:55.203600Z",
     "iopub.status.busy": "2025-03-05T20:30:55.203334Z",
     "iopub.status.idle": "2025-03-05T20:30:57.897021Z",
     "shell.execute_reply": "2025-03-05T20:30:57.896100Z"
    },
    "papermill": {
     "duration": 2.701771,
     "end_time": "2025-03-05T20:30:57.899053",
     "exception": false,
     "start_time": "2025-03-05T20:30:55.197282",
     "status": "completed"
    },
    "tags": []
   },
   "outputs": [],
   "source": [
    "# Importing libraries\n",
    "import pandas as pd\n",
    "import numpy as np\n",
    "import matplotlib.pyplot as plt\n",
    "import seaborn as sns\n",
    "\n",
    "from sklearn.preprocessing import StandardScaler\n",
    "from sklearn.model_selection import train_test_split\n",
    "from imblearn.over_sampling import SMOTE\n",
    "from sklearn.feature_selection import RFE\n",
    "from sklearn.decomposition import PCA\n",
    "\n",
    "from sklearn.ensemble import RandomForestClassifier\n",
    "from sklearn.linear_model import LogisticRegression\n",
    "from sklearn.neighbors import KNeighborsClassifier\n",
    "from sklearn.svm import SVC\n",
    "from sklearn.tree import DecisionTreeClassifier\n",
    "from sklearn.naive_bayes import GaussianNB\n",
    "from sklearn.neural_network import MLPClassifier\n",
    "\n",
    "from sklearn.model_selection import cross_val_score\n",
    "from sklearn.metrics import classification_report, roc_auc_score"
   ]
  },
  {
   "cell_type": "markdown",
   "id": "e8ef3ccd",
   "metadata": {
    "papermill": {
     "duration": 0.009055,
     "end_time": "2025-03-05T20:30:57.914970",
     "exception": false,
     "start_time": "2025-03-05T20:30:57.905915",
     "status": "completed"
    },
    "tags": []
   },
   "source": [
    "## 🔎 Data Exploration"
   ]
  },
  {
   "cell_type": "code",
   "execution_count": 2,
   "id": "1f65c8b2",
   "metadata": {
    "execution": {
     "iopub.execute_input": "2025-03-05T20:30:57.929269Z",
     "iopub.status.busy": "2025-03-05T20:30:57.928664Z",
     "iopub.status.idle": "2025-03-05T20:31:01.609849Z",
     "shell.execute_reply": "2025-03-05T20:31:01.609126Z"
    },
    "papermill": {
     "duration": 3.690786,
     "end_time": "2025-03-05T20:31:01.611397",
     "exception": false,
     "start_time": "2025-03-05T20:30:57.920611",
     "status": "completed"
    },
    "tags": []
   },
   "outputs": [
    {
     "data": {
      "text/html": [
       "<div>\n",
       "<style scoped>\n",
       "    .dataframe tbody tr th:only-of-type {\n",
       "        vertical-align: middle;\n",
       "    }\n",
       "\n",
       "    .dataframe tbody tr th {\n",
       "        vertical-align: top;\n",
       "    }\n",
       "\n",
       "    .dataframe thead th {\n",
       "        text-align: right;\n",
       "    }\n",
       "</style>\n",
       "<table border=\"1\" class=\"dataframe\">\n",
       "  <thead>\n",
       "    <tr style=\"text-align: right;\">\n",
       "      <th></th>\n",
       "      <th>Time</th>\n",
       "      <th>V1</th>\n",
       "      <th>V2</th>\n",
       "      <th>V3</th>\n",
       "      <th>V4</th>\n",
       "      <th>V5</th>\n",
       "      <th>V6</th>\n",
       "      <th>V7</th>\n",
       "      <th>V8</th>\n",
       "      <th>V9</th>\n",
       "      <th>...</th>\n",
       "      <th>V21</th>\n",
       "      <th>V22</th>\n",
       "      <th>V23</th>\n",
       "      <th>V24</th>\n",
       "      <th>V25</th>\n",
       "      <th>V26</th>\n",
       "      <th>V27</th>\n",
       "      <th>V28</th>\n",
       "      <th>Amount</th>\n",
       "      <th>Class</th>\n",
       "    </tr>\n",
       "  </thead>\n",
       "  <tbody>\n",
       "    <tr>\n",
       "      <th>0</th>\n",
       "      <td>0.0</td>\n",
       "      <td>-1.359807</td>\n",
       "      <td>-0.072781</td>\n",
       "      <td>2.536347</td>\n",
       "      <td>1.378155</td>\n",
       "      <td>-0.338321</td>\n",
       "      <td>0.462388</td>\n",
       "      <td>0.239599</td>\n",
       "      <td>0.098698</td>\n",
       "      <td>0.363787</td>\n",
       "      <td>...</td>\n",
       "      <td>-0.018307</td>\n",
       "      <td>0.277838</td>\n",
       "      <td>-0.110474</td>\n",
       "      <td>0.066928</td>\n",
       "      <td>0.128539</td>\n",
       "      <td>-0.189115</td>\n",
       "      <td>0.133558</td>\n",
       "      <td>-0.021053</td>\n",
       "      <td>149.62</td>\n",
       "      <td>0</td>\n",
       "    </tr>\n",
       "    <tr>\n",
       "      <th>1</th>\n",
       "      <td>0.0</td>\n",
       "      <td>1.191857</td>\n",
       "      <td>0.266151</td>\n",
       "      <td>0.166480</td>\n",
       "      <td>0.448154</td>\n",
       "      <td>0.060018</td>\n",
       "      <td>-0.082361</td>\n",
       "      <td>-0.078803</td>\n",
       "      <td>0.085102</td>\n",
       "      <td>-0.255425</td>\n",
       "      <td>...</td>\n",
       "      <td>-0.225775</td>\n",
       "      <td>-0.638672</td>\n",
       "      <td>0.101288</td>\n",
       "      <td>-0.339846</td>\n",
       "      <td>0.167170</td>\n",
       "      <td>0.125895</td>\n",
       "      <td>-0.008983</td>\n",
       "      <td>0.014724</td>\n",
       "      <td>2.69</td>\n",
       "      <td>0</td>\n",
       "    </tr>\n",
       "    <tr>\n",
       "      <th>2</th>\n",
       "      <td>1.0</td>\n",
       "      <td>-1.358354</td>\n",
       "      <td>-1.340163</td>\n",
       "      <td>1.773209</td>\n",
       "      <td>0.379780</td>\n",
       "      <td>-0.503198</td>\n",
       "      <td>1.800499</td>\n",
       "      <td>0.791461</td>\n",
       "      <td>0.247676</td>\n",
       "      <td>-1.514654</td>\n",
       "      <td>...</td>\n",
       "      <td>0.247998</td>\n",
       "      <td>0.771679</td>\n",
       "      <td>0.909412</td>\n",
       "      <td>-0.689281</td>\n",
       "      <td>-0.327642</td>\n",
       "      <td>-0.139097</td>\n",
       "      <td>-0.055353</td>\n",
       "      <td>-0.059752</td>\n",
       "      <td>378.66</td>\n",
       "      <td>0</td>\n",
       "    </tr>\n",
       "    <tr>\n",
       "      <th>3</th>\n",
       "      <td>1.0</td>\n",
       "      <td>-0.966272</td>\n",
       "      <td>-0.185226</td>\n",
       "      <td>1.792993</td>\n",
       "      <td>-0.863291</td>\n",
       "      <td>-0.010309</td>\n",
       "      <td>1.247203</td>\n",
       "      <td>0.237609</td>\n",
       "      <td>0.377436</td>\n",
       "      <td>-1.387024</td>\n",
       "      <td>...</td>\n",
       "      <td>-0.108300</td>\n",
       "      <td>0.005274</td>\n",
       "      <td>-0.190321</td>\n",
       "      <td>-1.175575</td>\n",
       "      <td>0.647376</td>\n",
       "      <td>-0.221929</td>\n",
       "      <td>0.062723</td>\n",
       "      <td>0.061458</td>\n",
       "      <td>123.50</td>\n",
       "      <td>0</td>\n",
       "    </tr>\n",
       "    <tr>\n",
       "      <th>4</th>\n",
       "      <td>2.0</td>\n",
       "      <td>-1.158233</td>\n",
       "      <td>0.877737</td>\n",
       "      <td>1.548718</td>\n",
       "      <td>0.403034</td>\n",
       "      <td>-0.407193</td>\n",
       "      <td>0.095921</td>\n",
       "      <td>0.592941</td>\n",
       "      <td>-0.270533</td>\n",
       "      <td>0.817739</td>\n",
       "      <td>...</td>\n",
       "      <td>-0.009431</td>\n",
       "      <td>0.798278</td>\n",
       "      <td>-0.137458</td>\n",
       "      <td>0.141267</td>\n",
       "      <td>-0.206010</td>\n",
       "      <td>0.502292</td>\n",
       "      <td>0.219422</td>\n",
       "      <td>0.215153</td>\n",
       "      <td>69.99</td>\n",
       "      <td>0</td>\n",
       "    </tr>\n",
       "    <tr>\n",
       "      <th>...</th>\n",
       "      <td>...</td>\n",
       "      <td>...</td>\n",
       "      <td>...</td>\n",
       "      <td>...</td>\n",
       "      <td>...</td>\n",
       "      <td>...</td>\n",
       "      <td>...</td>\n",
       "      <td>...</td>\n",
       "      <td>...</td>\n",
       "      <td>...</td>\n",
       "      <td>...</td>\n",
       "      <td>...</td>\n",
       "      <td>...</td>\n",
       "      <td>...</td>\n",
       "      <td>...</td>\n",
       "      <td>...</td>\n",
       "      <td>...</td>\n",
       "      <td>...</td>\n",
       "      <td>...</td>\n",
       "      <td>...</td>\n",
       "      <td>...</td>\n",
       "    </tr>\n",
       "    <tr>\n",
       "      <th>284802</th>\n",
       "      <td>172786.0</td>\n",
       "      <td>-11.881118</td>\n",
       "      <td>10.071785</td>\n",
       "      <td>-9.834783</td>\n",
       "      <td>-2.066656</td>\n",
       "      <td>-5.364473</td>\n",
       "      <td>-2.606837</td>\n",
       "      <td>-4.918215</td>\n",
       "      <td>7.305334</td>\n",
       "      <td>1.914428</td>\n",
       "      <td>...</td>\n",
       "      <td>0.213454</td>\n",
       "      <td>0.111864</td>\n",
       "      <td>1.014480</td>\n",
       "      <td>-0.509348</td>\n",
       "      <td>1.436807</td>\n",
       "      <td>0.250034</td>\n",
       "      <td>0.943651</td>\n",
       "      <td>0.823731</td>\n",
       "      <td>0.77</td>\n",
       "      <td>0</td>\n",
       "    </tr>\n",
       "    <tr>\n",
       "      <th>284803</th>\n",
       "      <td>172787.0</td>\n",
       "      <td>-0.732789</td>\n",
       "      <td>-0.055080</td>\n",
       "      <td>2.035030</td>\n",
       "      <td>-0.738589</td>\n",
       "      <td>0.868229</td>\n",
       "      <td>1.058415</td>\n",
       "      <td>0.024330</td>\n",
       "      <td>0.294869</td>\n",
       "      <td>0.584800</td>\n",
       "      <td>...</td>\n",
       "      <td>0.214205</td>\n",
       "      <td>0.924384</td>\n",
       "      <td>0.012463</td>\n",
       "      <td>-1.016226</td>\n",
       "      <td>-0.606624</td>\n",
       "      <td>-0.395255</td>\n",
       "      <td>0.068472</td>\n",
       "      <td>-0.053527</td>\n",
       "      <td>24.79</td>\n",
       "      <td>0</td>\n",
       "    </tr>\n",
       "    <tr>\n",
       "      <th>284804</th>\n",
       "      <td>172788.0</td>\n",
       "      <td>1.919565</td>\n",
       "      <td>-0.301254</td>\n",
       "      <td>-3.249640</td>\n",
       "      <td>-0.557828</td>\n",
       "      <td>2.630515</td>\n",
       "      <td>3.031260</td>\n",
       "      <td>-0.296827</td>\n",
       "      <td>0.708417</td>\n",
       "      <td>0.432454</td>\n",
       "      <td>...</td>\n",
       "      <td>0.232045</td>\n",
       "      <td>0.578229</td>\n",
       "      <td>-0.037501</td>\n",
       "      <td>0.640134</td>\n",
       "      <td>0.265745</td>\n",
       "      <td>-0.087371</td>\n",
       "      <td>0.004455</td>\n",
       "      <td>-0.026561</td>\n",
       "      <td>67.88</td>\n",
       "      <td>0</td>\n",
       "    </tr>\n",
       "    <tr>\n",
       "      <th>284805</th>\n",
       "      <td>172788.0</td>\n",
       "      <td>-0.240440</td>\n",
       "      <td>0.530483</td>\n",
       "      <td>0.702510</td>\n",
       "      <td>0.689799</td>\n",
       "      <td>-0.377961</td>\n",
       "      <td>0.623708</td>\n",
       "      <td>-0.686180</td>\n",
       "      <td>0.679145</td>\n",
       "      <td>0.392087</td>\n",
       "      <td>...</td>\n",
       "      <td>0.265245</td>\n",
       "      <td>0.800049</td>\n",
       "      <td>-0.163298</td>\n",
       "      <td>0.123205</td>\n",
       "      <td>-0.569159</td>\n",
       "      <td>0.546668</td>\n",
       "      <td>0.108821</td>\n",
       "      <td>0.104533</td>\n",
       "      <td>10.00</td>\n",
       "      <td>0</td>\n",
       "    </tr>\n",
       "    <tr>\n",
       "      <th>284806</th>\n",
       "      <td>172792.0</td>\n",
       "      <td>-0.533413</td>\n",
       "      <td>-0.189733</td>\n",
       "      <td>0.703337</td>\n",
       "      <td>-0.506271</td>\n",
       "      <td>-0.012546</td>\n",
       "      <td>-0.649617</td>\n",
       "      <td>1.577006</td>\n",
       "      <td>-0.414650</td>\n",
       "      <td>0.486180</td>\n",
       "      <td>...</td>\n",
       "      <td>0.261057</td>\n",
       "      <td>0.643078</td>\n",
       "      <td>0.376777</td>\n",
       "      <td>0.008797</td>\n",
       "      <td>-0.473649</td>\n",
       "      <td>-0.818267</td>\n",
       "      <td>-0.002415</td>\n",
       "      <td>0.013649</td>\n",
       "      <td>217.00</td>\n",
       "      <td>0</td>\n",
       "    </tr>\n",
       "  </tbody>\n",
       "</table>\n",
       "<p>284807 rows × 31 columns</p>\n",
       "</div>"
      ],
      "text/plain": [
       "            Time         V1         V2        V3        V4        V5  \\\n",
       "0            0.0  -1.359807  -0.072781  2.536347  1.378155 -0.338321   \n",
       "1            0.0   1.191857   0.266151  0.166480  0.448154  0.060018   \n",
       "2            1.0  -1.358354  -1.340163  1.773209  0.379780 -0.503198   \n",
       "3            1.0  -0.966272  -0.185226  1.792993 -0.863291 -0.010309   \n",
       "4            2.0  -1.158233   0.877737  1.548718  0.403034 -0.407193   \n",
       "...          ...        ...        ...       ...       ...       ...   \n",
       "284802  172786.0 -11.881118  10.071785 -9.834783 -2.066656 -5.364473   \n",
       "284803  172787.0  -0.732789  -0.055080  2.035030 -0.738589  0.868229   \n",
       "284804  172788.0   1.919565  -0.301254 -3.249640 -0.557828  2.630515   \n",
       "284805  172788.0  -0.240440   0.530483  0.702510  0.689799 -0.377961   \n",
       "284806  172792.0  -0.533413  -0.189733  0.703337 -0.506271 -0.012546   \n",
       "\n",
       "              V6        V7        V8        V9  ...       V21       V22  \\\n",
       "0       0.462388  0.239599  0.098698  0.363787  ... -0.018307  0.277838   \n",
       "1      -0.082361 -0.078803  0.085102 -0.255425  ... -0.225775 -0.638672   \n",
       "2       1.800499  0.791461  0.247676 -1.514654  ...  0.247998  0.771679   \n",
       "3       1.247203  0.237609  0.377436 -1.387024  ... -0.108300  0.005274   \n",
       "4       0.095921  0.592941 -0.270533  0.817739  ... -0.009431  0.798278   \n",
       "...          ...       ...       ...       ...  ...       ...       ...   \n",
       "284802 -2.606837 -4.918215  7.305334  1.914428  ...  0.213454  0.111864   \n",
       "284803  1.058415  0.024330  0.294869  0.584800  ...  0.214205  0.924384   \n",
       "284804  3.031260 -0.296827  0.708417  0.432454  ...  0.232045  0.578229   \n",
       "284805  0.623708 -0.686180  0.679145  0.392087  ...  0.265245  0.800049   \n",
       "284806 -0.649617  1.577006 -0.414650  0.486180  ...  0.261057  0.643078   \n",
       "\n",
       "             V23       V24       V25       V26       V27       V28  Amount  \\\n",
       "0      -0.110474  0.066928  0.128539 -0.189115  0.133558 -0.021053  149.62   \n",
       "1       0.101288 -0.339846  0.167170  0.125895 -0.008983  0.014724    2.69   \n",
       "2       0.909412 -0.689281 -0.327642 -0.139097 -0.055353 -0.059752  378.66   \n",
       "3      -0.190321 -1.175575  0.647376 -0.221929  0.062723  0.061458  123.50   \n",
       "4      -0.137458  0.141267 -0.206010  0.502292  0.219422  0.215153   69.99   \n",
       "...          ...       ...       ...       ...       ...       ...     ...   \n",
       "284802  1.014480 -0.509348  1.436807  0.250034  0.943651  0.823731    0.77   \n",
       "284803  0.012463 -1.016226 -0.606624 -0.395255  0.068472 -0.053527   24.79   \n",
       "284804 -0.037501  0.640134  0.265745 -0.087371  0.004455 -0.026561   67.88   \n",
       "284805 -0.163298  0.123205 -0.569159  0.546668  0.108821  0.104533   10.00   \n",
       "284806  0.376777  0.008797 -0.473649 -0.818267 -0.002415  0.013649  217.00   \n",
       "\n",
       "        Class  \n",
       "0           0  \n",
       "1           0  \n",
       "2           0  \n",
       "3           0  \n",
       "4           0  \n",
       "...       ...  \n",
       "284802      0  \n",
       "284803      0  \n",
       "284804      0  \n",
       "284805      0  \n",
       "284806      0  \n",
       "\n",
       "[284807 rows x 31 columns]"
      ]
     },
     "execution_count": 2,
     "metadata": {},
     "output_type": "execute_result"
    }
   ],
   "source": [
    "# Load data\n",
    "# data = pd.read_csv('creditcard.csv')\n",
    "data = pd.read_csv('/kaggle/input/creditcardfraud/creditcard.csv')\n",
    "data"
   ]
  },
  {
   "cell_type": "markdown",
   "id": "96a6e551",
   "metadata": {
    "papermill": {
     "duration": 0.005817,
     "end_time": "2025-03-05T20:31:01.623509",
     "exception": false,
     "start_time": "2025-03-05T20:31:01.617692",
     "status": "completed"
    },
    "tags": []
   },
   "source": [
    "Let's see information about this dataset"
   ]
  },
  {
   "cell_type": "code",
   "execution_count": 3,
   "id": "8608e016",
   "metadata": {
    "execution": {
     "iopub.execute_input": "2025-03-05T20:31:01.635803Z",
     "iopub.status.busy": "2025-03-05T20:31:01.635558Z",
     "iopub.status.idle": "2025-03-05T20:31:01.680532Z",
     "shell.execute_reply": "2025-03-05T20:31:01.679339Z"
    },
    "papermill": {
     "duration": 0.052531,
     "end_time": "2025-03-05T20:31:01.681784",
     "exception": false,
     "start_time": "2025-03-05T20:31:01.629253",
     "status": "completed"
    },
    "tags": []
   },
   "outputs": [
    {
     "name": "stdout",
     "output_type": "stream",
     "text": [
      "<class 'pandas.core.frame.DataFrame'>\n",
      "RangeIndex: 284807 entries, 0 to 284806\n",
      "Data columns (total 31 columns):\n",
      " #   Column  Non-Null Count   Dtype  \n",
      "---  ------  --------------   -----  \n",
      " 0   Time    284807 non-null  float64\n",
      " 1   V1      284807 non-null  float64\n",
      " 2   V2      284807 non-null  float64\n",
      " 3   V3      284807 non-null  float64\n",
      " 4   V4      284807 non-null  float64\n",
      " 5   V5      284807 non-null  float64\n",
      " 6   V6      284807 non-null  float64\n",
      " 7   V7      284807 non-null  float64\n",
      " 8   V8      284807 non-null  float64\n",
      " 9   V9      284807 non-null  float64\n",
      " 10  V10     284807 non-null  float64\n",
      " 11  V11     284807 non-null  float64\n",
      " 12  V12     284807 non-null  float64\n",
      " 13  V13     284807 non-null  float64\n",
      " 14  V14     284807 non-null  float64\n",
      " 15  V15     284807 non-null  float64\n",
      " 16  V16     284807 non-null  float64\n",
      " 17  V17     284807 non-null  float64\n",
      " 18  V18     284807 non-null  float64\n",
      " 19  V19     284807 non-null  float64\n",
      " 20  V20     284807 non-null  float64\n",
      " 21  V21     284807 non-null  float64\n",
      " 22  V22     284807 non-null  float64\n",
      " 23  V23     284807 non-null  float64\n",
      " 24  V24     284807 non-null  float64\n",
      " 25  V25     284807 non-null  float64\n",
      " 26  V26     284807 non-null  float64\n",
      " 27  V27     284807 non-null  float64\n",
      " 28  V28     284807 non-null  float64\n",
      " 29  Amount  284807 non-null  float64\n",
      " 30  Class   284807 non-null  int64  \n",
      "dtypes: float64(30), int64(1)\n",
      "memory usage: 67.4 MB\n"
     ]
    }
   ],
   "source": [
    "data.info()"
   ]
  },
  {
   "cell_type": "markdown",
   "id": "13ac51a0",
   "metadata": {
    "papermill": {
     "duration": 0.005831,
     "end_time": "2025-03-05T20:31:01.693756",
     "exception": false,
     "start_time": "2025-03-05T20:31:01.687925",
     "status": "completed"
    },
    "tags": []
   },
   "source": [
    "Let's see the class count, where 0 = Regular transaction, 1 = Fraudulent transaction/"
   ]
  },
  {
   "cell_type": "code",
   "execution_count": 4,
   "id": "9b57a39d",
   "metadata": {
    "execution": {
     "iopub.execute_input": "2025-03-05T20:31:01.706155Z",
     "iopub.status.busy": "2025-03-05T20:31:01.705865Z",
     "iopub.status.idle": "2025-03-05T20:31:01.714172Z",
     "shell.execute_reply": "2025-03-05T20:31:01.713347Z"
    },
    "papermill": {
     "duration": 0.015755,
     "end_time": "2025-03-05T20:31:01.715377",
     "exception": false,
     "start_time": "2025-03-05T20:31:01.699622",
     "status": "completed"
    },
    "tags": []
   },
   "outputs": [
    {
     "data": {
      "text/plain": [
       "Class\n",
       "0    284315\n",
       "1       492\n",
       "Name: count, dtype: int64"
      ]
     },
     "execution_count": 4,
     "metadata": {},
     "output_type": "execute_result"
    }
   ],
   "source": [
    "class_counts = data['Class'].value_counts()\n",
    "class_labels = ['Non-Fraud', 'Fraud']\n",
    "class_counts"
   ]
  },
  {
   "cell_type": "markdown",
   "id": "979279ad",
   "metadata": {
    "papermill": {
     "duration": 0.005635,
     "end_time": "2025-03-05T20:31:01.726927",
     "exception": false,
     "start_time": "2025-03-05T20:31:01.721292",
     "status": "completed"
    },
    "tags": []
   },
   "source": [
    "We have 284315 regular transactions and 492 fraudalent transactions, let's see this distribution of the data graphically"
   ]
  },
  {
   "cell_type": "code",
   "execution_count": 5,
   "id": "abe0c0d0",
   "metadata": {
    "execution": {
     "iopub.execute_input": "2025-03-05T20:31:01.739439Z",
     "iopub.status.busy": "2025-03-05T20:31:01.739211Z",
     "iopub.status.idle": "2025-03-05T20:31:02.041549Z",
     "shell.execute_reply": "2025-03-05T20:31:02.040623Z"
    },
    "papermill": {
     "duration": 0.31013,
     "end_time": "2025-03-05T20:31:02.043067",
     "exception": false,
     "start_time": "2025-03-05T20:31:01.732937",
     "status": "completed"
    },
    "tags": []
   },
   "outputs": [
    {
     "data": {
      "text/plain": [
       "([<matplotlib.axis.XTick at 0x78ec59deb010>,\n",
       "  <matplotlib.axis.XTick at 0x78ec59deb040>],\n",
       " [Text(0, 0, 'Non-Fraud'), Text(1, 0, 'Fraud')])"
      ]
     },
     "execution_count": 5,
     "metadata": {},
     "output_type": "execute_result"
    },
    {
     "data": {
      "image/png": "[encoded data removed]",
      "text/plain": [
       "<Figure size 640x480 with 1 Axes>"
      ]
     },
     "metadata": {},
     "output_type": "display_data"
    }
   ],
   "source": [
    "# Plot the bar plot for the number of frauds and non-frauds with count on top of the bars\n",
    "colors = ['blue', 'red']\n",
    "sns.barplot(x=class_counts.index, y=class_counts.values, palette=colors)\n",
    "\n",
    "# Add count labels on top of the bars\n",
    "for i, count in enumerate(class_counts.values):\n",
    "    percentage = count/len(data) * 100\n",
    "    plt.text(i, count, f\"{count} = {percentage:.2f}%\", ha='center')\n",
    "\n",
    "# Customize the plot\n",
    "plt.title('Number of Non-Fraud and Fraud Transactions', fontsize=14)\n",
    "plt.xlabel('Transaction Type', fontsize=12)\n",
    "plt.ylabel('Count', fontsize=12)\n",
    "plt.xticks([0, 1], class_labels, fontsize=10)"
   ]
  },
  {
   "cell_type": "markdown",
   "id": "b693a1de",
   "metadata": {
    "papermill": {
     "duration": 0.00681,
     "end_time": "2025-03-05T20:31:02.057145",
     "exception": false,
     "start_time": "2025-03-05T20:31:02.050335",
     "status": "completed"
    },
    "tags": []
   },
   "source": [
    "The bar plot before makes the problem seem insignificant since the fraudulent transaction are really little in comparison, but let's see the amount in euros \"lost\" in fraudulent transactions"
   ]
  },
  {
   "cell_type": "code",
   "execution_count": 6,
   "id": "eabbf277",
   "metadata": {
    "execution": {
     "iopub.execute_input": "2025-03-05T20:31:02.071192Z",
     "iopub.status.busy": "2025-03-05T20:31:02.070947Z",
     "iopub.status.idle": "2025-03-05T20:31:02.110042Z",
     "shell.execute_reply": "2025-03-05T20:31:02.109235Z"
    },
    "papermill": {
     "duration": 0.047719,
     "end_time": "2025-03-05T20:31:02.111481",
     "exception": false,
     "start_time": "2025-03-05T20:31:02.063762",
     "status": "completed"
    },
    "tags": []
   },
   "outputs": [
    {
     "data": {
      "text/plain": [
       "(60127.97, 25102462.04)"
      ]
     },
     "execution_count": 6,
     "metadata": {},
     "output_type": "execute_result"
    }
   ],
   "source": [
    "# sum the amount in cash $$ of fraud and non-fraud transactions\n",
    "fraud = data[data['Class'] == 1]\n",
    "non_fraud = data[data['Class'] == 0]\n",
    "fraud_amount = fraud['Amount'].sum()\n",
    "non_fraud_amount = non_fraud['Amount'].sum()\n",
    "fraud_amount, non_fraud_amount"
   ]
  },
  {
   "cell_type": "code",
   "execution_count": 7,
   "id": "26ea96ea",
   "metadata": {
    "execution": {
     "iopub.execute_input": "2025-03-05T20:31:02.126147Z",
     "iopub.status.busy": "2025-03-05T20:31:02.125858Z",
     "iopub.status.idle": "2025-03-05T20:31:02.494072Z",
     "shell.execute_reply": "2025-03-05T20:31:02.493176Z"
    },
    "papermill": {
     "duration": 0.376753,
     "end_time": "2025-03-05T20:31:02.495471",
     "exception": false,
     "start_time": "2025-03-05T20:31:02.118718",
     "status": "completed"
    },
    "tags": []
   },
   "outputs": [
    {
     "data": {
      "text/html": [
       "<div>\n",
       "<style scoped>\n",
       "    .dataframe tbody tr th:only-of-type {\n",
       "        vertical-align: middle;\n",
       "    }\n",
       "\n",
       "    .dataframe tbody tr th {\n",
       "        vertical-align: top;\n",
       "    }\n",
       "\n",
       "    .dataframe thead th {\n",
       "        text-align: right;\n",
       "    }\n",
       "</style>\n",
       "<table border=\"1\" class=\"dataframe\">\n",
       "  <thead>\n",
       "    <tr style=\"text-align: right;\">\n",
       "      <th></th>\n",
       "      <th>Time</th>\n",
       "      <th>V1</th>\n",
       "      <th>V2</th>\n",
       "      <th>V3</th>\n",
       "      <th>V4</th>\n",
       "      <th>V5</th>\n",
       "      <th>V6</th>\n",
       "      <th>V7</th>\n",
       "      <th>V8</th>\n",
       "      <th>V9</th>\n",
       "      <th>...</th>\n",
       "      <th>V21</th>\n",
       "      <th>V22</th>\n",
       "      <th>V23</th>\n",
       "      <th>V24</th>\n",
       "      <th>V25</th>\n",
       "      <th>V26</th>\n",
       "      <th>V27</th>\n",
       "      <th>V28</th>\n",
       "      <th>Amount</th>\n",
       "      <th>Class</th>\n",
       "    </tr>\n",
       "  </thead>\n",
       "  <tbody>\n",
       "    <tr>\n",
       "      <th>count</th>\n",
       "      <td>284807.000000</td>\n",
       "      <td>2.848070e+05</td>\n",
       "      <td>2.848070e+05</td>\n",
       "      <td>2.848070e+05</td>\n",
       "      <td>2.848070e+05</td>\n",
       "      <td>2.848070e+05</td>\n",
       "      <td>2.848070e+05</td>\n",
       "      <td>2.848070e+05</td>\n",
       "      <td>2.848070e+05</td>\n",
       "      <td>2.848070e+05</td>\n",
       "      <td>...</td>\n",
       "      <td>2.848070e+05</td>\n",
       "      <td>2.848070e+05</td>\n",
       "      <td>2.848070e+05</td>\n",
       "      <td>2.848070e+05</td>\n",
       "      <td>2.848070e+05</td>\n",
       "      <td>2.848070e+05</td>\n",
       "      <td>2.848070e+05</td>\n",
       "      <td>2.848070e+05</td>\n",
       "      <td>284807.000000</td>\n",
       "      <td>284807.000000</td>\n",
       "    </tr>\n",
       "    <tr>\n",
       "      <th>mean</th>\n",
       "      <td>94813.859575</td>\n",
       "      <td>1.175161e-15</td>\n",
       "      <td>3.369007e-16</td>\n",
       "      <td>-1.379537e-15</td>\n",
       "      <td>2.094852e-15</td>\n",
       "      <td>1.021879e-15</td>\n",
       "      <td>1.500885e-15</td>\n",
       "      <td>-5.620335e-16</td>\n",
       "      <td>1.149614e-16</td>\n",
       "      <td>-2.426963e-15</td>\n",
       "      <td>...</td>\n",
       "      <td>1.596686e-16</td>\n",
       "      <td>-3.576577e-16</td>\n",
       "      <td>2.650499e-16</td>\n",
       "      <td>4.472317e-15</td>\n",
       "      <td>5.109395e-16</td>\n",
       "      <td>1.686100e-15</td>\n",
       "      <td>-3.662399e-16</td>\n",
       "      <td>-1.225457e-16</td>\n",
       "      <td>88.349619</td>\n",
       "      <td>0.001727</td>\n",
       "    </tr>\n",
       "    <tr>\n",
       "      <th>std</th>\n",
       "      <td>47488.145955</td>\n",
       "      <td>1.958696e+00</td>\n",
       "      <td>1.651309e+00</td>\n",
       "      <td>1.516255e+00</td>\n",
       "      <td>1.415869e+00</td>\n",
       "      <td>1.380247e+00</td>\n",
       "      <td>1.332271e+00</td>\n",
       "      <td>1.237094e+00</td>\n",
       "      <td>1.194353e+00</td>\n",
       "      <td>1.098632e+00</td>\n",
       "      <td>...</td>\n",
       "      <td>7.345240e-01</td>\n",
       "      <td>7.257016e-01</td>\n",
       "      <td>6.244603e-01</td>\n",
       "      <td>6.056471e-01</td>\n",
       "      <td>5.212781e-01</td>\n",
       "      <td>4.822270e-01</td>\n",
       "      <td>4.036325e-01</td>\n",
       "      <td>3.300833e-01</td>\n",
       "      <td>250.120109</td>\n",
       "      <td>0.041527</td>\n",
       "    </tr>\n",
       "    <tr>\n",
       "      <th>min</th>\n",
       "      <td>0.000000</td>\n",
       "      <td>-5.640751e+01</td>\n",
       "      <td>-7.271573e+01</td>\n",
       "      <td>-4.832559e+01</td>\n",
       "      <td>-5.683171e+00</td>\n",
       "      <td>-1.137433e+02</td>\n",
       "      <td>-2.616051e+01</td>\n",
       "      <td>-4.355724e+01</td>\n",
       "      <td>-7.321672e+01</td>\n",
       "      <td>-1.343407e+01</td>\n",
       "      <td>...</td>\n",
       "      <td>-3.483038e+01</td>\n",
       "      <td>-1.093314e+01</td>\n",
       "      <td>-4.480774e+01</td>\n",
       "      <td>-2.836627e+00</td>\n",
       "      <td>-1.029540e+01</td>\n",
       "      <td>-2.604551e+00</td>\n",
       "      <td>-2.256568e+01</td>\n",
       "      <td>-1.543008e+01</td>\n",
       "      <td>0.000000</td>\n",
       "      <td>0.000000</td>\n",
       "    </tr>\n",
       "    <tr>\n",
       "      <th>25%</th>\n",
       "      <td>54201.500000</td>\n",
       "      <td>-9.203734e-01</td>\n",
       "      <td>-5.985499e-01</td>\n",
       "      <td>-8.903648e-01</td>\n",
       "      <td>-8.486401e-01</td>\n",
       "      <td>-6.915971e-01</td>\n",
       "      <td>-7.682956e-01</td>\n",
       "      <td>-5.540759e-01</td>\n",
       "      <td>-2.086297e-01</td>\n",
       "      <td>-6.430976e-01</td>\n",
       "      <td>...</td>\n",
       "      <td>-2.283949e-01</td>\n",
       "      <td>-5.423504e-01</td>\n",
       "      <td>-1.618463e-01</td>\n",
       "      <td>-3.545861e-01</td>\n",
       "      <td>-3.171451e-01</td>\n",
       "      <td>-3.269839e-01</td>\n",
       "      <td>-7.083953e-02</td>\n",
       "      <td>-5.295979e-02</td>\n",
       "      <td>5.600000</td>\n",
       "      <td>0.000000</td>\n",
       "    </tr>\n",
       "    <tr>\n",
       "      <th>50%</th>\n",
       "      <td>84692.000000</td>\n",
       "      <td>1.810880e-02</td>\n",
       "      <td>6.548556e-02</td>\n",
       "      <td>1.798463e-01</td>\n",
       "      <td>-1.984653e-02</td>\n",
       "      <td>-5.433583e-02</td>\n",
       "      <td>-2.741871e-01</td>\n",
       "      <td>4.010308e-02</td>\n",
       "      <td>2.235804e-02</td>\n",
       "      <td>-5.142873e-02</td>\n",
       "      <td>...</td>\n",
       "      <td>-2.945017e-02</td>\n",
       "      <td>6.781943e-03</td>\n",
       "      <td>-1.119293e-02</td>\n",
       "      <td>4.097606e-02</td>\n",
       "      <td>1.659350e-02</td>\n",
       "      <td>-5.213911e-02</td>\n",
       "      <td>1.342146e-03</td>\n",
       "      <td>1.124383e-02</td>\n",
       "      <td>22.000000</td>\n",
       "      <td>0.000000</td>\n",
       "    </tr>\n",
       "    <tr>\n",
       "      <th>75%</th>\n",
       "      <td>139320.500000</td>\n",
       "      <td>1.315642e+00</td>\n",
       "      <td>8.037239e-01</td>\n",
       "      <td>1.027196e+00</td>\n",
       "      <td>7.433413e-01</td>\n",
       "      <td>6.119264e-01</td>\n",
       "      <td>3.985649e-01</td>\n",
       "      <td>5.704361e-01</td>\n",
       "      <td>3.273459e-01</td>\n",
       "      <td>5.971390e-01</td>\n",
       "      <td>...</td>\n",
       "      <td>1.863772e-01</td>\n",
       "      <td>5.285536e-01</td>\n",
       "      <td>1.476421e-01</td>\n",
       "      <td>4.395266e-01</td>\n",
       "      <td>3.507156e-01</td>\n",
       "      <td>2.409522e-01</td>\n",
       "      <td>9.104512e-02</td>\n",
       "      <td>7.827995e-02</td>\n",
       "      <td>77.165000</td>\n",
       "      <td>0.000000</td>\n",
       "    </tr>\n",
       "    <tr>\n",
       "      <th>max</th>\n",
       "      <td>172792.000000</td>\n",
       "      <td>2.454930e+00</td>\n",
       "      <td>2.205773e+01</td>\n",
       "      <td>9.382558e+00</td>\n",
       "      <td>1.687534e+01</td>\n",
       "      <td>3.480167e+01</td>\n",
       "      <td>7.330163e+01</td>\n",
       "      <td>1.205895e+02</td>\n",
       "      <td>2.000721e+01</td>\n",
       "      <td>1.559499e+01</td>\n",
       "      <td>...</td>\n",
       "      <td>2.720284e+01</td>\n",
       "      <td>1.050309e+01</td>\n",
       "      <td>2.252841e+01</td>\n",
       "      <td>4.584549e+00</td>\n",
       "      <td>7.519589e+00</td>\n",
       "      <td>3.517346e+00</td>\n",
       "      <td>3.161220e+01</td>\n",
       "      <td>3.384781e+01</td>\n",
       "      <td>25691.160000</td>\n",
       "      <td>1.000000</td>\n",
       "    </tr>\n",
       "  </tbody>\n",
       "</table>\n",
       "<p>8 rows × 31 columns</p>\n",
       "</div>"
      ],
      "text/plain": [
       "                Time            V1            V2            V3            V4  \\\n",
       "count  284807.000000  2.848070e+05  2.848070e+05  2.848070e+05  2.848070e+05   \n",
       "mean    94813.859575  1.175161e-15  3.369007e-16 -1.379537e-15  2.094852e-15   \n",
       "std     47488.145955  1.958696e+00  1.651309e+00  1.516255e+00  1.415869e+00   \n",
       "min         0.000000 -5.640751e+01 -7.271573e+01 -4.832559e+01 -5.683171e+00   \n",
       "25%     54201.500000 -9.203734e-01 -5.985499e-01 -8.903648e-01 -8.486401e-01   \n",
       "50%     84692.000000  1.810880e-02  6.548556e-02  1.798463e-01 -1.984653e-02   \n",
       "75%    139320.500000  1.315642e+00  8.037239e-01  1.027196e+00  7.433413e-01   \n",
       "max    172792.000000  2.454930e+00  2.205773e+01  9.382558e+00  1.687534e+01   \n",
       "\n",
       "                 V5            V6            V7            V8            V9  \\\n",
       "count  2.848070e+05  2.848070e+05  2.848070e+05  2.848070e+05  2.848070e+05   \n",
       "mean   1.021879e-15  1.500885e-15 -5.620335e-16  1.149614e-16 -2.426963e-15   \n",
       "std    1.380247e+00  1.332271e+00  1.237094e+00  1.194353e+00  1.098632e+00   \n",
       "min   -1.137433e+02 -2.616051e+01 -4.355724e+01 -7.321672e+01 -1.343407e+01   \n",
       "25%   -6.915971e-01 -7.682956e-01 -5.540759e-01 -2.086297e-01 -6.430976e-01   \n",
       "50%   -5.433583e-02 -2.741871e-01  4.010308e-02  2.235804e-02 -5.142873e-02   \n",
       "75%    6.119264e-01  3.985649e-01  5.704361e-01  3.273459e-01  5.971390e-01   \n",
       "max    3.480167e+01  7.330163e+01  1.205895e+02  2.000721e+01  1.559499e+01   \n",
       "\n",
       "       ...           V21           V22           V23           V24  \\\n",
       "count  ...  2.848070e+05  2.848070e+05  2.848070e+05  2.848070e+05   \n",
       "mean   ...  1.596686e-16 -3.576577e-16  2.650499e-16  4.472317e-15   \n",
       "std    ...  7.345240e-01  7.257016e-01  6.244603e-01  6.056471e-01   \n",
       "min    ... -3.483038e+01 -1.093314e+01 -4.480774e+01 -2.836627e+00   \n",
       "25%    ... -2.283949e-01 -5.423504e-01 -1.618463e-01 -3.545861e-01   \n",
       "50%    ... -2.945017e-02  6.781943e-03 -1.119293e-02  4.097606e-02   \n",
       "75%    ...  1.863772e-01  5.285536e-01  1.476421e-01  4.395266e-01   \n",
       "max    ...  2.720284e+01  1.050309e+01  2.252841e+01  4.584549e+00   \n",
       "\n",
       "                V25           V26           V27           V28         Amount  \\\n",
       "count  2.848070e+05  2.848070e+05  2.848070e+05  2.848070e+05  284807.000000   \n",
       "mean   5.109395e-16  1.686100e-15 -3.662399e-16 -1.225457e-16      88.349619   \n",
       "std    5.212781e-01  4.822270e-01  4.036325e-01  3.300833e-01     250.120109   \n",
       "min   -1.029540e+01 -2.604551e+00 -2.256568e+01 -1.543008e+01       0.000000   \n",
       "25%   -3.171451e-01 -3.269839e-01 -7.083953e-02 -5.295979e-02       5.600000   \n",
       "50%    1.659350e-02 -5.213911e-02  1.342146e-03  1.124383e-02      22.000000   \n",
       "75%    3.507156e-01  2.409522e-01  9.104512e-02  7.827995e-02      77.165000   \n",
       "max    7.519589e+00  3.517346e+00  3.161220e+01  3.384781e+01   25691.160000   \n",
       "\n",
       "               Class  \n",
       "count  284807.000000  \n",
       "mean        0.001727  \n",
       "std         0.041527  \n",
       "min         0.000000  \n",
       "25%         0.000000  \n",
       "50%         0.000000  \n",
       "75%         0.000000  \n",
       "max         1.000000  \n",
       "\n",
       "[8 rows x 31 columns]"
      ]
     },
     "execution_count": 7,
     "metadata": {},
     "output_type": "execute_result"
    }
   ],
   "source": [
    "# Check if data is normalized\n",
    "data.describe()"
   ]
  },
  {
   "cell_type": "code",
   "execution_count": 8,
   "id": "cf64c7c3",
   "metadata": {
    "execution": {
     "iopub.execute_input": "2025-03-05T20:31:02.510989Z",
     "iopub.status.busy": "2025-03-05T20:31:02.510705Z",
     "iopub.status.idle": "2025-03-05T20:31:16.684725Z",
     "shell.execute_reply": "2025-03-05T20:31:16.683939Z"
    },
    "papermill": {
     "duration": 14.183026,
     "end_time": "2025-03-05T20:31:16.686203",
     "exception": false,
     "start_time": "2025-03-05T20:31:02.503177",
     "status": "completed"
    },
    "tags": []
   },
   "outputs": [
    {
     "data": {
      "image/png": "[encoded data removed]",
      "text/plain": [
       "<Figure size 1500x1000 with 1 Axes>"
      ]
     },
     "metadata": {},
     "output_type": "display_data"
    }
   ],
   "source": [
    "# violin plot for features\n",
    "plt.figure(figsize=(15, 10))\n",
    "sns.violinplot(data=data.drop(['Class'], axis=1), scale='width', inner='quartile', palette='muted')\n",
    "plt.title('Violin Plot of Features to Check Normalization', fontsize=14)\n",
    "plt.xlabel('Features', fontsize=12)\n",
    "plt.ylabel('Distribution', fontsize=12)\n",
    "plt.xticks(rotation=90)\n",
    "plt.show()"
   ]
  },
  {
   "cell_type": "markdown",
   "id": "c0c2deee",
   "metadata": {
    "papermill": {
     "duration": 0.007793,
     "end_time": "2025-03-05T20:31:16.702837",
     "exception": false,
     "start_time": "2025-03-05T20:31:16.695044",
     "status": "completed"
    },
    "tags": []
   },
   "source": [
    "## 🧹 Data preprocessing"
   ]
  },
  {
   "cell_type": "code",
   "execution_count": 9,
   "id": "ee545064",
   "metadata": {
    "execution": {
     "iopub.execute_input": "2025-03-05T20:31:16.719525Z",
     "iopub.status.busy": "2025-03-05T20:31:16.719298Z",
     "iopub.status.idle": "2025-03-05T20:31:16.878193Z",
     "shell.execute_reply": "2025-03-05T20:31:16.877219Z"
    },
    "papermill": {
     "duration": 0.16914,
     "end_time": "2025-03-05T20:31:16.879992",
     "exception": false,
     "start_time": "2025-03-05T20:31:16.710852",
     "status": "completed"
    },
    "tags": []
   },
   "outputs": [],
   "source": [
    "X = data.drop(['Class'], axis=1)  # Features (Excluding 'Class')\n",
    "y = data['Class']                 # Target\n",
    "\n",
    "# Normalize features using StandardScaler\n",
    "scaler = StandardScaler()\n",
    "X_scaled = scaler.fit_transform(X)  # Scale the entire feature set first\n"
   ]
  },
  {
   "cell_type": "code",
   "execution_count": 10,
   "id": "844a62d5",
   "metadata": {
    "execution": {
     "iopub.execute_input": "2025-03-05T20:31:16.899634Z",
     "iopub.status.busy": "2025-03-05T20:31:16.899392Z",
     "iopub.status.idle": "2025-03-05T20:31:31.014485Z",
     "shell.execute_reply": "2025-03-05T20:31:31.013556Z"
    },
    "papermill": {
     "duration": 14.125577,
     "end_time": "2025-03-05T20:31:31.016246",
     "exception": false,
     "start_time": "2025-03-05T20:31:16.890669",
     "status": "completed"
    },
    "tags": []
   },
   "outputs": [
    {
     "data": {
      "image/png": "[encoded data removed]",
      "text/plain": [
       "<Figure size 1500x1000 with 1 Axes>"
      ]
     },
     "metadata": {},
     "output_type": "display_data"
    }
   ],
   "source": [
    "# violin plot for features\n",
    "plt.figure(figsize=(15, 10))\n",
    "sns.violinplot(data=X_scaled, scale='width', inner='quartile', palette='muted')\n",
    "plt.title('Violin Plot of Features to Check Normalization', fontsize=14)\n",
    "plt.xlabel('Features', fontsize=12)\n",
    "plt.ylabel('Distribution', fontsize=12)\n",
    "plt.xticks(np.arange(30), X.columns, rotation=90)\n",
    "plt.show()"
   ]
  },
  {
   "cell_type": "code",
   "execution_count": 11,
   "id": "b270075c",
   "metadata": {
    "execution": {
     "iopub.execute_input": "2025-03-05T20:31:31.036070Z",
     "iopub.status.busy": "2025-03-05T20:31:31.035783Z",
     "iopub.status.idle": "2025-03-05T20:31:31.231402Z",
     "shell.execute_reply": "2025-03-05T20:31:31.230358Z"
    },
    "papermill": {
     "duration": 0.207033,
     "end_time": "2025-03-05T20:31:31.233189",
     "exception": false,
     "start_time": "2025-03-05T20:31:31.026156",
     "status": "completed"
    },
    "tags": []
   },
   "outputs": [],
   "source": [
    "# Split into training and test sets\n",
    "X_train, X_test, y_train, y_test = train_test_split(X_scaled, y, test_size=0.2, random_state=42, stratify=y)"
   ]
  },
  {
   "cell_type": "markdown",
   "id": "2b45f2bf",
   "metadata": {
    "papermill": {
     "duration": 0.009149,
     "end_time": "2025-03-05T20:31:31.252441",
     "exception": false,
     "start_time": "2025-03-05T20:31:31.243292",
     "status": "completed"
    },
    "tags": []
   },
   "source": [
    "To tackle the class umbalanced problem, an oversampling technique to augment the samples of class 1 (fraud)"
   ]
  },
  {
   "cell_type": "code",
   "execution_count": 12,
   "id": "ac830587",
   "metadata": {
    "execution": {
     "iopub.execute_input": "2025-03-05T20:31:31.272049Z",
     "iopub.status.busy": "2025-03-05T20:31:31.271751Z",
     "iopub.status.idle": "2025-03-05T20:31:31.517340Z",
     "shell.execute_reply": "2025-03-05T20:31:31.516613Z"
    },
    "papermill": {
     "duration": 0.25695,
     "end_time": "2025-03-05T20:31:31.518909",
     "exception": false,
     "start_time": "2025-03-05T20:31:31.261959",
     "status": "completed"
    },
    "tags": []
   },
   "outputs": [],
   "source": [
    "# Apply SMOTE to the training set\n",
    "smote = SMOTE(random_state=42)\n",
    "X_train_smote, y_train_smote = smote.fit_resample(X_train, y_train)"
   ]
  },
  {
   "cell_type": "code",
   "execution_count": 13,
   "id": "23c4213d",
   "metadata": {
    "execution": {
     "iopub.execute_input": "2025-03-05T20:31:31.539108Z",
     "iopub.status.busy": "2025-03-05T20:31:31.538843Z",
     "iopub.status.idle": "2025-03-05T20:31:31.693692Z",
     "shell.execute_reply": "2025-03-05T20:31:31.692828Z"
    },
    "papermill": {
     "duration": 0.166012,
     "end_time": "2025-03-05T20:31:31.694986",
     "exception": false,
     "start_time": "2025-03-05T20:31:31.528974",
     "status": "completed"
    },
    "tags": []
   },
   "outputs": [
    {
     "data": {
      "text/plain": [
       "([<matplotlib.axis.XTick at 0x78ec54455f00>,\n",
       "  <matplotlib.axis.XTick at 0x78ec54455ed0>],\n",
       " [Text(0, 0, 'Non-Fraud'), Text(1, 0, 'Fraud')])"
      ]
     },
     "execution_count": 13,
     "metadata": {},
     "output_type": "execute_result"
    },
    {
     "data": {
      "image/png": "[encoded data removed]",
      "text/plain": [
       "<Figure size 640x480 with 1 Axes>"
      ]
     },
     "metadata": {},
     "output_type": "display_data"
    }
   ],
   "source": [
    "# show the distribution of the target variable after applying SMOTE\n",
    "class_counts_smote = y_train_smote.value_counts()\n",
    "\n",
    "# Plot the bar plot for the number of frauds and non-frauds with count on top of the bars\n",
    "colors = ['blue', 'red']\n",
    "sns.barplot(x=class_counts_smote.index, y=class_counts_smote.values, palette=colors)\n",
    "\n",
    "# Add count labels on top of the bars\n",
    "for i, count in enumerate(class_counts_smote.values):\n",
    "    percentage = count/len(X_train_smote) * 100\n",
    "    plt.text(i, count, f\"{count} = {percentage:.2f}%\", ha='center')\n",
    "\n",
    "# Customize the plot\n",
    "plt.title('Number of Non-Fraud and Fraud Transactions', fontsize=14)\n",
    "plt.xlabel('Transaction Type', fontsize=12)\n",
    "plt.ylabel('Count', fontsize=12)\n",
    "plt.xticks([0, 1], class_labels, fontsize=10)"
   ]
  },
  {
   "cell_type": "markdown",
   "id": "e178651f",
   "metadata": {
    "papermill": {
     "duration": 0.009622,
     "end_time": "2025-03-05T20:31:31.714726",
     "exception": false,
     "start_time": "2025-03-05T20:31:31.705104",
     "status": "completed"
    },
    "tags": []
   },
   "source": [
    "With this tecnique now both classes are balanced with a 50/50 distribution, now we can show the distribution of this sinthetic samples in the following scatter plot"
   ]
  },
  {
   "cell_type": "code",
   "execution_count": 14,
   "id": "6c0b40bf",
   "metadata": {
    "execution": {
     "iopub.execute_input": "2025-03-05T20:31:31.735124Z",
     "iopub.status.busy": "2025-03-05T20:31:31.734832Z",
     "iopub.status.idle": "2025-03-05T20:31:42.881151Z",
     "shell.execute_reply": "2025-03-05T20:31:42.880247Z"
    },
    "papermill": {
     "duration": 11.158101,
     "end_time": "2025-03-05T20:31:42.882562",
     "exception": false,
     "start_time": "2025-03-05T20:31:31.724461",
     "status": "completed"
    },
    "tags": []
   },
   "outputs": [
    {
     "data": {
      "image/png": "[encoded data removed]",
      "text/plain": [
       "<Figure size 640x480 with 2 Axes>"
      ]
     },
     "metadata": {},
     "output_type": "display_data"
    }
   ],
   "source": [
    "# Original data scatter plot\n",
    "plt.subplot(1, 2, 1)\n",
    "plt.scatter(X_train[:, 1], X_train[:, 2], c=y_train, alpha=0.5, cmap='coolwarm')\n",
    "plt.title('Original Data')\n",
    "plt.xlabel('Feature 1')\n",
    "plt.ylabel('Feature 2')\n",
    "\n",
    "# SMOTE-generated data scatter plot\n",
    "plt.subplot(1, 2, 2)\n",
    "plt.scatter(X_train_smote[:, 1], X_train_smote[:, 2], c=y_train_smote, alpha=0.5, cmap='coolwarm')\n",
    "plt.title('After SMOTE')\n",
    "plt.xlabel('Feature 1')\n",
    "plt.ylabel('Feature 2')\n",
    "\n",
    "plt.tight_layout()\n",
    "plt.show()\n"
   ]
  },
  {
   "cell_type": "markdown",
   "id": "0c3fc876",
   "metadata": {
    "papermill": {
     "duration": 0.011177,
     "end_time": "2025-03-05T20:31:42.905818",
     "exception": false,
     "start_time": "2025-03-05T20:31:42.894641",
     "status": "completed"
    },
    "tags": []
   },
   "source": [
    "## 🗳️ Feature selection"
   ]
  },
  {
   "cell_type": "markdown",
   "id": "cf340b46",
   "metadata": {
    "papermill": {
     "duration": 0.010993,
     "end_time": "2025-03-05T20:31:42.928259",
     "exception": false,
     "start_time": "2025-03-05T20:31:42.917266",
     "status": "completed"
    },
    "tags": []
   },
   "source": [
    "Before starting to try random models with all combination of features let's do an analysis on what features might fit better to this problem"
   ]
  },
  {
   "cell_type": "markdown",
   "id": "2f9286fe",
   "metadata": {
    "papermill": {
     "duration": 0.011113,
     "end_time": "2025-03-05T20:31:42.950709",
     "exception": false,
     "start_time": "2025-03-05T20:31:42.939596",
     "status": "completed"
    },
    "tags": []
   },
   "source": [
    "### Correlation analysis"
   ]
  },
  {
   "cell_type": "code",
   "execution_count": 15,
   "id": "82fcbc51",
   "metadata": {
    "execution": {
     "iopub.execute_input": "2025-03-05T20:31:42.974370Z",
     "iopub.status.busy": "2025-03-05T20:31:42.974107Z",
     "iopub.status.idle": "2025-03-05T20:31:43.983957Z",
     "shell.execute_reply": "2025-03-05T20:31:43.983111Z"
    },
    "papermill": {
     "duration": 1.023483,
     "end_time": "2025-03-05T20:31:43.985470",
     "exception": false,
     "start_time": "2025-03-05T20:31:42.961987",
     "status": "completed"
    },
    "tags": []
   },
   "outputs": [
    {
     "data": {
      "image/png": "[encoded data removed]",
      "text/plain": [
       "<Figure size 640x480 with 2 Axes>"
      ]
     },
     "metadata": {},
     "output_type": "display_data"
    }
   ],
   "source": [
    "corr_matrix = pd.DataFrame(X_scaled, columns=data.drop(['Class'], axis=1).columns).corr()\n",
    "plt.figsize=(20,20)\n",
    "sns.heatmap(corr_matrix)\n",
    "plt.xticks(ticks=np.arange(len(corr_matrix.columns)), labels=corr_matrix.columns, rotation=90)\n",
    "plt.yticks(ticks=np.arange(len(corr_matrix.columns)), labels=corr_matrix.columns, rotation=0)\n",
    "plt.show()"
   ]
  },
  {
   "cell_type": "code",
   "execution_count": 16,
   "id": "646a8709",
   "metadata": {
    "execution": {
     "iopub.execute_input": "2025-03-05T20:31:44.011181Z",
     "iopub.status.busy": "2025-03-05T20:31:44.010944Z",
     "iopub.status.idle": "2025-03-05T20:31:44.027265Z",
     "shell.execute_reply": "2025-03-05T20:31:44.026449Z"
    },
    "papermill": {
     "duration": 0.030281,
     "end_time": "2025-03-05T20:31:44.028497",
     "exception": false,
     "start_time": "2025-03-05T20:31:43.998216",
     "status": "completed"
    },
    "tags": []
   },
   "outputs": [
    {
     "data": {
      "text/plain": [
       "Time    V3       -0.419618\n",
       "V2      Amount   -0.531409\n",
       "V3      Time     -0.419618\n",
       "V5      Amount   -0.386356\n",
       "V7      Amount    0.397311\n",
       "V20     Amount    0.339403\n",
       "Amount  V2       -0.531409\n",
       "        V5       -0.386356\n",
       "        V7        0.397311\n",
       "        V20       0.339403\n",
       "dtype: float64"
      ]
     },
     "execution_count": 16,
     "metadata": {},
     "output_type": "execute_result"
    }
   ],
   "source": [
    "# find corr_matrix values where it's absolute value is greater than 0.4 and print indices\n",
    "high_corr = corr_matrix[abs(corr_matrix) > 0.3].stack().dropna()\n",
    "high_corr = high_corr[high_corr.index.get_level_values(0) != high_corr.index.get_level_values(1)]\n",
    "high_corr"
   ]
  },
  {
   "cell_type": "markdown",
   "id": "8112e319",
   "metadata": {
    "papermill": {
     "duration": 0.013242,
     "end_time": "2025-03-05T20:31:44.054082",
     "exception": false,
     "start_time": "2025-03-05T20:31:44.040840",
     "status": "completed"
    },
    "tags": []
   },
   "source": [
    "### Feature Importance from Tree-based Models"
   ]
  },
  {
   "cell_type": "code",
   "execution_count": 17,
   "id": "646a0374",
   "metadata": {
    "execution": {
     "iopub.execute_input": "2025-03-05T20:31:44.079005Z",
     "iopub.status.busy": "2025-03-05T20:31:44.078737Z",
     "iopub.status.idle": "2025-03-05T20:37:03.801827Z",
     "shell.execute_reply": "2025-03-05T20:37:03.800955Z"
    },
    "papermill": {
     "duration": 319.749412,
     "end_time": "2025-03-05T20:37:03.815553",
     "exception": false,
     "start_time": "2025-03-05T20:31:44.066141",
     "status": "completed"
    },
    "tags": []
   },
   "outputs": [
    {
     "name": "stdout",
     "output_type": "stream",
     "text": [
      "   Feature  Importance\n",
      "14     V14    0.189393\n",
      "10     V10    0.112716\n",
      "4       V4    0.109369\n",
      "12     V12    0.091854\n",
      "17     V17    0.088626\n",
      "3       V3    0.063776\n",
      "11     V11    0.048797\n",
      "16     V16    0.045896\n",
      "2       V2    0.037971\n",
      "9       V9    0.025789\n"
     ]
    }
   ],
   "source": [
    "importances = RandomForestClassifier(random_state=42).fit(X_train_smote, y_train_smote).feature_importances_\n",
    "feature_importance_df = pd.DataFrame({'Feature': data.drop(['Class'], axis=1).columns, \n",
    "                                      'Importance': importances})\n",
    "feature_importance_df = feature_importance_df.sort_values(by='Importance', ascending=False)\n",
    "top_features = feature_importance_df.head(10)['Feature'].tolist()\n",
    "print(feature_importance_df.head(10))  # Top 10 features"
   ]
  },
  {
   "cell_type": "markdown",
   "id": "1d43d71c",
   "metadata": {
    "papermill": {
     "duration": 0.012106,
     "end_time": "2025-03-05T20:37:03.840077",
     "exception": false,
     "start_time": "2025-03-05T20:37:03.827971",
     "status": "completed"
    },
    "tags": []
   },
   "source": [
    "### RFE method (Recursive Feature Elimination)"
   ]
  },
  {
   "cell_type": "code",
   "execution_count": 18,
   "id": "a0071966",
   "metadata": {
    "execution": {
     "iopub.execute_input": "2025-03-05T20:37:03.866474Z",
     "iopub.status.busy": "2025-03-05T20:37:03.866211Z",
     "iopub.status.idle": "2025-03-05T20:37:23.139495Z",
     "shell.execute_reply": "2025-03-05T20:37:23.138483Z"
    },
    "papermill": {
     "duration": 19.287958,
     "end_time": "2025-03-05T20:37:23.140949",
     "exception": false,
     "start_time": "2025-03-05T20:37:03.852991",
     "status": "completed"
    },
    "tags": []
   },
   "outputs": [
    {
     "name": "stdout",
     "output_type": "stream",
     "text": [
      "Selected Features: Index(['V4', 'V5', 'V8', 'V10', 'V11', 'V12', 'V13', 'V14', 'V16', 'V17'], dtype='object')\n"
     ]
    }
   ],
   "source": [
    "# Feature selection using Recursive Feature Elimination (RFE)\n",
    "estimator = LogisticRegression(random_state=42, max_iter=500)\n",
    "selector = RFE(estimator, n_features_to_select=10, step=1)\n",
    "selector.fit(X_train_smote, y_train_smote)\n",
    "selected_features = selector.support_\n",
    "selected_feature_names = data.drop(['Class'], axis=1).columns[selected_features]\n",
    "rfe_features = selected_feature_names.tolist()\n",
    "print(\"Selected Features:\", selected_feature_names)"
   ]
  },
  {
   "cell_type": "markdown",
   "id": "63c5e6dd",
   "metadata": {
    "papermill": {
     "duration": 0.012079,
     "end_time": "2025-03-05T20:37:23.166124",
     "exception": false,
     "start_time": "2025-03-05T20:37:23.154045",
     "status": "completed"
    },
    "tags": []
   },
   "source": [
    "### PCA to reduce dimentionality and get new features"
   ]
  },
  {
   "cell_type": "code",
   "execution_count": 19,
   "id": "c4bf2368",
   "metadata": {
    "execution": {
     "iopub.execute_input": "2025-03-05T20:37:23.191452Z",
     "iopub.status.busy": "2025-03-05T20:37:23.191205Z",
     "iopub.status.idle": "2025-03-05T20:37:24.812963Z",
     "shell.execute_reply": "2025-03-05T20:37:24.812186Z"
    },
    "papermill": {
     "duration": 1.636081,
     "end_time": "2025-03-05T20:37:24.814528",
     "exception": false,
     "start_time": "2025-03-05T20:37:23.178447",
     "status": "completed"
    },
    "tags": []
   },
   "outputs": [],
   "source": [
    "pca = PCA(n_components=10)\n",
    "X_train_pca = pca.fit_transform(X_train_smote)\n",
    "X_test_pca = pca.transform(X_test)"
   ]
  },
  {
   "cell_type": "markdown",
   "id": "63918504",
   "metadata": {
    "papermill": {
     "duration": 0.012107,
     "end_time": "2025-03-05T20:37:24.839720",
     "exception": false,
     "start_time": "2025-03-05T20:37:24.827613",
     "status": "completed"
    },
    "tags": []
   },
   "source": [
    "### Organize all feature sets obtained from all previous methods"
   ]
  },
  {
   "cell_type": "code",
   "execution_count": 20,
   "id": "2d572772",
   "metadata": {
    "execution": {
     "iopub.execute_input": "2025-03-05T20:37:24.864963Z",
     "iopub.status.busy": "2025-03-05T20:37:24.864651Z",
     "iopub.status.idle": "2025-03-05T20:37:24.870805Z",
     "shell.execute_reply": "2025-03-05T20:37:24.870175Z"
    },
    "papermill": {
     "duration": 0.020135,
     "end_time": "2025-03-05T20:37:24.872068",
     "exception": false,
     "start_time": "2025-03-05T20:37:24.851933",
     "status": "completed"
    },
    "tags": []
   },
   "outputs": [
    {
     "data": {
      "text/plain": [
       "{'High Correlation': ['Time', 'V2', 'V3', 'V5', 'V7', 'V20', 'Amount'],\n",
       " 'Feature Importance': ['V14',\n",
       "  'V10',\n",
       "  'V4',\n",
       "  'V12',\n",
       "  'V17',\n",
       "  'V3',\n",
       "  'V11',\n",
       "  'V16',\n",
       "  'V2',\n",
       "  'V9'],\n",
       " 'RFE': ['V4', 'V5', 'V8', 'V10', 'V11', 'V12', 'V13', 'V14', 'V16', 'V17'],\n",
       " 'PCA': array([[ -8.45175538,   1.03005476,  -1.09845364, ...,   0.36717245,\n",
       "          -0.4114535 ,   0.03867058],\n",
       "        [ -8.44050145,   1.02603396,  -1.07587379, ...,  -0.09255781,\n",
       "           0.33742627,  -0.27838775],\n",
       "        [ -8.24206993,   5.67157112,   1.06576488, ...,  -1.91722521,\n",
       "           0.89722517,   0.84759115],\n",
       "        ...,\n",
       "        [ -2.49657936,  -0.39611938,   1.20052608, ...,   0.18753827,\n",
       "          -0.79898836,   1.3873237 ],\n",
       "        [ 10.43338318,  -3.40278149,   2.47384173, ...,   0.23700066,\n",
       "          -4.02416148,   2.09695674],\n",
       "        [ 26.80454538,   3.65042111, -15.50655459, ...,  -0.8660192 ,\n",
       "          -1.25904307,   0.93818053]])}"
      ]
     },
     "execution_count": 20,
     "metadata": {},
     "output_type": "execute_result"
    }
   ],
   "source": [
    "# Organize feature sets\n",
    "feature_sets = {\n",
    "    \"High Correlation\": high_corr.index.get_level_values(0).unique().tolist(),\n",
    "    \"Feature Importance\": top_features,\n",
    "    \"RFE\": rfe_features,\n",
    "    \"PCA\": X_train_pca\n",
    "}\n",
    "feature_sets"
   ]
  },
  {
   "cell_type": "markdown",
   "id": "65ab0df9",
   "metadata": {
    "papermill": {
     "duration": 0.012249,
     "end_time": "2025-03-05T20:37:24.896792",
     "exception": false,
     "start_time": "2025-03-05T20:37:24.884543",
     "status": "completed"
    },
    "tags": []
   },
   "source": [
    "## 🛠️🧱 Model building"
   ]
  },
  {
   "cell_type": "markdown",
   "id": "635a7b04",
   "metadata": {
    "papermill": {
     "duration": 0.012223,
     "end_time": "2025-03-05T20:37:24.922393",
     "exception": false,
     "start_time": "2025-03-05T20:37:24.910170",
     "status": "completed"
    },
    "tags": []
   },
   "source": [
    "We want to try all classifiers used in original paper to compare results."
   ]
  },
  {
   "cell_type": "code",
   "execution_count": 21,
   "id": "8d9b28e8",
   "metadata": {
    "execution": {
     "iopub.execute_input": "2025-03-05T20:37:24.947905Z",
     "iopub.status.busy": "2025-03-05T20:37:24.947651Z",
     "iopub.status.idle": "2025-03-05T20:37:24.951288Z",
     "shell.execute_reply": "2025-03-05T20:37:24.950539Z"
    },
    "papermill": {
     "duration": 0.017707,
     "end_time": "2025-03-05T20:37:24.952445",
     "exception": false,
     "start_time": "2025-03-05T20:37:24.934738",
     "status": "completed"
    },
    "tags": []
   },
   "outputs": [],
   "source": [
    "classifiers = {\n",
    "    \"Random Forest\": RandomForestClassifier(),\n",
    "    \"Decision Tree\": DecisionTreeClassifier(),\n",
    "    \"Neural Network\": MLPClassifier(max_iter=500),\n",
    "    \"Naive Bayes\": GaussianNB(),\n",
    "    \"Logistic Regression\": LogisticRegression(max_iter=500)   \n",
    "}"
   ]
  },
  {
   "cell_type": "code",
   "execution_count": 22,
   "id": "6f387058",
   "metadata": {
    "execution": {
     "iopub.execute_input": "2025-03-05T20:37:24.978024Z",
     "iopub.status.busy": "2025-03-05T20:37:24.977768Z",
     "iopub.status.idle": "2025-03-05T21:05:35.564025Z",
     "shell.execute_reply": "2025-03-05T21:05:35.562967Z"
    },
    "papermill": {
     "duration": 1690.601187,
     "end_time": "2025-03-05T21:05:35.565998",
     "exception": false,
     "start_time": "2025-03-05T20:37:24.964811",
     "status": "completed"
    },
    "tags": []
   },
   "outputs": [],
   "source": [
    "# Evaluate classifiers on different feature sets\n",
    "results = {}\n",
    "\n",
    "for feature_name, selected_features in feature_sets.items():\n",
    "    X_train_selected = X_train_smote if feature_name == \"PCA\" else X_train_smote[:, [X.columns.get_loc(f) for f in selected_features]]\n",
    "    X_test_selected = X_test if feature_name == \"PCA\" else X_test[:, [X.columns.get_loc(f) for f in selected_features]]\n",
    "    \n",
    "    for clf_name, clf in classifiers.items():\n",
    "        clf.fit(X_train_selected, y_train_smote)\n",
    "        y_pred = clf.predict(X_test_selected)\n",
    "        auc = roc_auc_score(y_test, y_pred)\n",
    "        report = classification_report(y_test, y_pred, output_dict=True)\n",
    "        \n",
    "        results[(feature_name, clf_name)] = {\n",
    "            \"AUC\": auc,\n",
    "            \"Accuracy\": report['accuracy'] if 'accuracy' in report else 'N/A',\n",
    "            \"Precision\": report['1']['precision'],\n",
    "            \"Recall\": report['1']['recall'],\n",
    "            \"F1-Score\": report['1']['f1-score']\n",
    "        }"
   ]
  },
  {
   "cell_type": "code",
   "execution_count": 23,
   "id": "842cf8b7",
   "metadata": {
    "execution": {
     "iopub.execute_input": "2025-03-05T21:05:35.594069Z",
     "iopub.status.busy": "2025-03-05T21:05:35.593786Z",
     "iopub.status.idle": "2025-03-05T21:05:35.603265Z",
     "shell.execute_reply": "2025-03-05T21:05:35.602337Z"
    },
    "papermill": {
     "duration": 0.024714,
     "end_time": "2025-03-05T21:05:35.604679",
     "exception": false,
     "start_time": "2025-03-05T21:05:35.579965",
     "status": "completed"
    },
    "tags": []
   },
   "outputs": [
    {
     "name": "stdout",
     "output_type": "stream",
     "text": [
      "                                             AUC  Accuracy  Precision  \\\n",
      "High Correlation   Random Forest        0.866529  0.997911   0.436364   \n",
      "                   Decision Tree        0.832883  0.991749   0.130952   \n",
      "                   Neural Network       0.886315  0.986570   0.093788   \n",
      "                   Naive Bayes          0.842881  0.971033   0.041371   \n",
      "                   Logistic Regression  0.889722  0.932358   0.021168   \n",
      "Feature Importance Random Forest        0.923179  0.999157   0.715517   \n",
      "                   Decision Tree        0.911524  0.996226   0.290323   \n",
      "                   Neural Network       0.922282  0.997367   0.380734   \n",
      "                   Naive Bayes          0.935419  0.982918   0.082936   \n",
      "                   Logistic Regression  0.945300  0.972139   0.053925   \n",
      "RFE                Random Forest        0.918007  0.998999   0.666667   \n",
      "                   Decision Tree        0.896245  0.996226   0.285714   \n",
      "                   Neural Network       0.911938  0.997051   0.349138   \n",
      "                   Naive Bayes          0.933977  0.980039   0.071723   \n",
      "                   Logistic Regression  0.945203  0.971946   0.053571   \n",
      "PCA                Random Forest        0.902947  0.999438   0.858696   \n",
      "                   Decision Tree        0.871376  0.997419   0.374359   \n",
      "                   Neural Network       0.907943  0.999245   0.761905   \n",
      "                   Naive Bayes          0.926061  0.974404   0.056136   \n",
      "                   Logistic Regression  0.946328  0.974193   0.057990   \n",
      "\n",
      "                                          Recall  F1-Score  \n",
      "High Correlation   Random Forest        0.734694  0.547529  \n",
      "                   Decision Tree        0.673469  0.219269  \n",
      "                   Neural Network       0.785714  0.167573  \n",
      "                   Naive Bayes          0.714286  0.078212  \n",
      "                   Logistic Regression  0.846939  0.041304  \n",
      "Feature Importance Random Forest        0.846939  0.775701  \n",
      "                   Decision Tree        0.826531  0.429708  \n",
      "                   Neural Network       0.846939  0.525316  \n",
      "                   Naive Bayes          0.887755  0.151700  \n",
      "                   Logistic Regression  0.918367  0.101868  \n",
      "RFE                Random Forest        0.836735  0.742081  \n",
      "                   Decision Tree        0.795918  0.420485  \n",
      "                   Neural Network       0.826531  0.490909  \n",
      "                   Naive Bayes          0.887755  0.132723  \n",
      "                   Logistic Regression  0.918367  0.101237  \n",
      "PCA                Random Forest        0.806122  0.831579  \n",
      "                   Decision Tree        0.744898  0.498294  \n",
      "                   Neural Network       0.816327  0.788177  \n",
      "                   Naive Bayes          0.877551  0.105521  \n",
      "                   Logistic Regression  0.918367  0.109091  \n"
     ]
    }
   ],
   "source": [
    "# Convert results to DataFrame and display\n",
    "results_df = pd.DataFrame(results).T\n",
    "print(results_df)"
   ]
  }
 ],
 "metadata": {
  "kaggle": {
   "accelerator": "gpu",
   "dataSources": [
    {
     "datasetId": 310,
     "sourceId": 23498,
     "sourceType": "datasetVersion"
    }
   ],
   "dockerImageVersionId": 30919,
   "isGpuEnabled": true,
   "isInternetEnabled": true,
   "language": "python",
   "sourceType": "notebook"
  },
  "kernelspec": {
   "display_name": "Python 3",
   "language": "python",
   "name": "python3"
  },
  "language_info": {
   "codemirror_mode": {
    "name": "ipython",
    "version": 3
   },
   "file_extension": ".py",
   "mimetype": "text/x-python",
   "name": "python",
   "nbconvert_exporter": "python",
   "pygments_lexer": "ipython3",
   "version": "3.10.12"
  },
  "papermill": {
   "default_parameters": {},
   "duration": 2083.61466,
   "end_time": "2025-03-05T21:05:36.237373",
   "environment_variables": {},
   "exception": null,
   "input_path": "__notebook__.ipynb",
   "output_path": "__notebook__.ipynb",
   "parameters": {},
   "start_time": "2025-03-05T20:30:52.622713",
   "version": "2.6.0"
  }
 },
 "nbformat": 4,
 "nbformat_minor": 5
}
